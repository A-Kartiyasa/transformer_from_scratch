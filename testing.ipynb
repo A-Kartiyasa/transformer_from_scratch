{
 "cells": [
  {
   "cell_type": "code",
   "execution_count": 7,
   "metadata": {},
   "outputs": [
    {
     "name": "stdout",
     "output_type": "stream",
     "text": [
      "tensor([[[-2.4547,  0.4984,  1.6643, -0.4151],\n",
      "         [-0.9940,  0.1728, -0.1262, -0.1817],\n",
      "         [-0.6015, -0.2139, -0.6691,  0.5880]],\n",
      "\n",
      "        [[ 0.9981, -0.9248,  0.6317, -1.0752],\n",
      "         [-1.2651,  0.3356, -1.8668, -0.9512],\n",
      "         [-0.4375, -0.2201,  0.0886,  0.7578]]])\n",
      "tensor([[[0.0112, 0.2145, 0.6883, 0.0860],\n",
      "         [0.1130, 0.3631, 0.2692, 0.2547],\n",
      "         [0.1494, 0.2201, 0.1396, 0.4908]],\n",
      "\n",
      "        [[0.5089, 0.0744, 0.3528, 0.0640],\n",
      "         [0.1270, 0.6295, 0.0696, 0.1739],\n",
      "         [0.1381, 0.1717, 0.2338, 0.4565]]])\n"
     ]
    }
   ],
   "source": [
    "import torch\n",
    "import torch.nn as nn\n",
    "mat_a = torch.randn(size=(2,3,4))\n",
    "mat_b = nn.Softmax(dim=-1)(mat_a)\n",
    "\n",
    "print(mat_a)\n",
    "print(mat_b)\n"
   ]
  },
  {
   "cell_type": "code",
   "execution_count": 8,
   "metadata": {},
   "outputs": [
    {
     "name": "stdout",
     "output_type": "stream",
     "text": [
      "tensor([[1., 1., 1.],\n",
      "        [1., 1., 1.],\n",
      "        [1., 1., 1.]])\n",
      "tensor([1.])\n",
      "tensor([[3., 3., 3.],\n",
      "        [3., 3., 3.],\n",
      "        [3., 3., 3.]])\n"
     ]
    }
   ],
   "source": [
    "matc = torch.ones(size=(3,3))\n",
    "matd = torch.ones(1)\n",
    "matx = 2*torch.ones(1)\n",
    "\n",
    "mattest = matx*matc + matd\n",
    "\n",
    "print(matc)\n",
    "print(matd)\n",
    "print(mattest)"
   ]
  },
  {
   "cell_type": "code",
   "execution_count": 10,
   "metadata": {},
   "outputs": [
    {
     "name": "stdout",
     "output_type": "stream",
     "text": [
      "1e-05\n",
      "<class 'float'>\n"
     ]
    }
   ],
   "source": [
    "print(1e-5)\n",
    "print(type(1e-5))"
   ]
  },
  {
   "cell_type": "code",
   "execution_count": 2,
   "metadata": {},
   "outputs": [
    {
     "name": "stdout",
     "output_type": "stream",
     "text": [
      "tensor([1., 1., 1., 1., 1., 1., 1., 1., 1., 1.])\n"
     ]
    }
   ],
   "source": [
    "import torch\n",
    "testa = torch.ones(10)\n",
    "print(testa)"
   ]
  },
  {
   "cell_type": "code",
   "execution_count": null,
   "metadata": {},
   "outputs": [],
   "source": []
  }
 ],
 "metadata": {
  "kernelspec": {
   "display_name": "base",
   "language": "python",
   "name": "python3"
  },
  "language_info": {
   "codemirror_mode": {
    "name": "ipython",
    "version": 3
   },
   "file_extension": ".py",
   "mimetype": "text/x-python",
   "name": "python",
   "nbconvert_exporter": "python",
   "pygments_lexer": "ipython3",
   "version": "3.8.5"
  },
  "orig_nbformat": 4
 },
 "nbformat": 4,
 "nbformat_minor": 2
}
